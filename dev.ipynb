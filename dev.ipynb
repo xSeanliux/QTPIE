{
 "cells": [
  {
   "cell_type": "code",
   "execution_count": 2,
   "id": "10ce8d86",
   "metadata": {},
   "outputs": [],
   "source": [
    "from Bio import Phylo \n",
    "from io import StringIO"
   ]
  },
  {
   "cell_type": "code",
   "execution_count": 3,
   "id": "0a81d08c",
   "metadata": {},
   "outputs": [],
   "source": [
    "tree_nwk = \"((A,B,C),((D,E,F),G,H),I)\"\n",
    "tree = Phylo.read(StringIO(tree_nwk), format=\"newick\")"
   ]
  },
  {
   "cell_type": "code",
   "execution_count": 4,
   "id": "ddcf8b12",
   "metadata": {},
   "outputs": [
    {
     "data": {
      "image/png": "[encoded data removed]",
      "text/plain": [
       "<Figure size 640x480 with 1 Axes>"
      ]
     },
     "metadata": {},
     "output_type": "display_data"
    }
   ],
   "source": [
    "Phylo.draw(tree)"
   ]
  },
  {
   "cell_type": "code",
   "execution_count": 5,
   "id": "1ffee755",
   "metadata": {},
   "outputs": [],
   "source": [
    "root = tree.root"
   ]
  },
  {
   "cell_type": "code",
   "execution_count": 6,
   "id": "6d9716bc",
   "metadata": {},
   "outputs": [
    {
     "data": {
      "text/plain": [
       "Clade(name='A')"
      ]
     },
     "execution_count": 6,
     "metadata": {},
     "output_type": "execute_result"
    }
   ],
   "source": [
    "next(iter(root.find_elements(terminal=True)))"
   ]
  },
  {
   "cell_type": "code",
   "execution_count": 7,
   "id": "800e1445",
   "metadata": {},
   "outputs": [],
   "source": [
    "id = 0\n",
    "def get_new_name():\n",
    "    global id\n",
    "    id += 1\n",
    "    return f\"_{id}\"\n",
    "\n",
    "def reset_name():\n",
    "    global id\n",
    "    id = 0"
   ]
  },
  {
   "cell_type": "code",
   "execution_count": 8,
   "id": "a4ca0bfe",
   "metadata": {},
   "outputs": [],
   "source": [
    "reset_name()\n",
    "for node in tree.find_clades(terminal=False):\n",
    "    node.name = get_new_name()"
   ]
  },
  {
   "cell_type": "code",
   "execution_count": 9,
   "id": "136b1f1d",
   "metadata": {},
   "outputs": [
    {
     "data": {
      "image/png": "[encoded data removed]",
      "text/plain": [
       "<Figure size 640x480 with 1 Axes>"
      ]
     },
     "metadata": {},
     "output_type": "display_data"
    }
   ],
   "source": [
    "Phylo.draw(tree)"
   ]
  },
  {
   "cell_type": "code",
   "execution_count": 10,
   "id": "0388ea29",
   "metadata": {},
   "outputs": [
    {
     "name": "stdout",
     "output_type": "stream",
     "text": [
      "['A', 'B', 'C', 'D', 'E', 'F', 'G', 'H', 'I']\n"
     ]
    }
   ],
   "source": [
    "all_leaf_names = map(lambda x : x.name, tree.find_elements(terminal=True))\n",
    "print(list(all_leaf_names))"
   ]
  },
  {
   "cell_type": "code",
   "execution_count": 11,
   "id": "5940b0a3",
   "metadata": {},
   "outputs": [
    {
     "data": {
      "text/plain": [
       "[Clade(name='A'), Clade(name='B'), Clade(name='C')]"
      ]
     },
     "execution_count": 11,
     "metadata": {},
     "output_type": "execute_result"
    }
   ],
   "source": [
    "root.clades[0].clades"
   ]
  },
  {
   "cell_type": "code",
   "execution_count": 12,
   "id": "18a73662",
   "metadata": {},
   "outputs": [
    {
     "name": "stdout",
     "output_type": "stream",
     "text": [
      "_1\n",
      "_2\n",
      "_3\n",
      "_4\n"
     ]
    }
   ],
   "source": [
    "all_clades = tree.find_clades() \n",
    "for clade in all_clades:\n",
    "    if(len(clade.clades) > 2): \n",
    "        print(clade)"
   ]
  },
  {
   "cell_type": "code",
   "execution_count": 13,
   "id": "5544a762",
   "metadata": {},
   "outputs": [],
   "source": [
    "polytomies = list(filter(\n",
    "    lambda x : \n",
    "        len(x.clades) > 2 if x != tree.root\n",
    "        else len(x.clades) > 3\n",
    "    ,\n",
    "    tree.find_clades(),\n",
    "))"
   ]
  },
  {
   "cell_type": "code",
   "execution_count": 14,
   "id": "fd11920f",
   "metadata": {},
   "outputs": [],
   "source": [
    "poly_label_map = { polytomy.name: {} for polytomy in polytomies }"
   ]
  },
  {
   "cell_type": "code",
   "execution_count": 15,
   "id": "71113b19",
   "metadata": {},
   "outputs": [
    {
     "data": {
      "text/plain": [
       "{'_2': {}, '_3': {}, '_4': {}}"
      ]
     },
     "execution_count": 15,
     "metadata": {},
     "output_type": "execute_result"
    }
   ],
   "source": [
    "poly_label_map"
   ]
  },
  {
   "cell_type": "code",
   "execution_count": 16,
   "id": "11de05d0",
   "metadata": {},
   "outputs": [
    {
     "name": "stdout",
     "output_type": "stream",
     "text": [
      "poly=Clade(name='_2') parent=Clade(name='_1')\n",
      "9\n",
      "poly=Clade(name='_3') parent=Clade(name='_1')\n",
      "9\n",
      "poly=Clade(name='_4') parent=Clade(name='_3')\n",
      "9\n"
     ]
    }
   ],
   "source": [
    "for poly in polytomies:\n",
    "    path = [None, tree.root] + tree.get_path(poly)\n",
    "    # print(f\"{poly=} {path=}\")\n",
    "    if not path:\n",
    "        raise ValueError(f\"Could not find parent of {poly=}\")\n",
    "    else:\n",
    "        parent = path[-2]\n",
    "    print(f\"{poly=} {parent=}\") \n",
    "\n",
    "    for child in poly.clades: \n",
    "        leaves = list(child.find_elements(terminal=True))\n",
    "        # print(f\"{child=}, {leaves=}\")\n",
    "        for leaf in leaves: \n",
    "            poly_label_map[poly.name][leaf.name] = child.name\n",
    "    if parent is not None:\n",
    "        leaves = [ # the rest of the leaves\n",
    "            l for l in tree.find_elements(terminal=True)\n",
    "            if l not in poly.find_elements()\n",
    "        ]\n",
    "        for leaf in leaves: \n",
    "            poly_label_map[poly.name][leaf.name] = parent.name\n",
    "    print(len(poly_label_map[poly.name]))\n",
    "\n",
    "\n"
   ]
  },
  {
   "cell_type": "code",
   "execution_count": 17,
   "id": "4874ef6b",
   "metadata": {},
   "outputs": [],
   "source": [
    "from collections import Counter\n",
    "polytomy_quartets = { polytomy.name: Counter() for polytomy in polytomies }"
   ]
  },
  {
   "cell_type": "code",
   "execution_count": 18,
   "id": "48778011",
   "metadata": {},
   "outputs": [],
   "source": [
    "def update_quartet(\n",
    "    q: tuple[str, str, str, str],\n",
    "    w: int,\n",
    "    polytomy_quartets: dict[str, Counter],\n",
    "):\n",
    "    # q has format (a, b, c, d), represents ab|cd\n",
    "    # please check that a,b,c,d are in the leafset \n",
    "    # w is an integer weight\n",
    "    for poly in polytomies: \n",
    "        pn = poly.name \n",
    "        relabelled_tuple = tuple(map(\n",
    "            lambda u: poly_label_map[pn][u],\n",
    "            q\n",
    "        ))\n",
    "        if len(set(relabelled_tuple)) == 4: # four different children\n",
    "            print(f\"Updating {pn=}: {relabelled_tuple=}\")\n",
    "            polytomy_quartets[pn][relabelled_tuple] += w\n",
    "            return # a quartet can be in at most one polytomy"
   ]
  },
  {
   "cell_type": "code",
   "execution_count": 19,
   "id": "3a577d0b",
   "metadata": {},
   "outputs": [
    {
     "name": "stdout",
     "output_type": "stream",
     "text": [
      "Updating pn='_2': relabelled_tuple=('A', 'B', 'C', '_1')\n"
     ]
    }
   ],
   "source": [
    "update_quartet(\n",
    "    ('A', 'B', 'C', 'D'),\n",
    "    w = 1,\n",
    "    polytomy_quartets=polytomy_quartets,\n",
    ")"
   ]
  },
  {
   "cell_type": "code",
   "execution_count": 24,
   "id": "df4e9ce4",
   "metadata": {},
   "outputs": [],
   "source": [
    "import os \n",
    "from pathlib import Path\n",
    "\n",
    "output_path = \"/projects/illinois/eng/cs/warnow/zxliu2/QuartetPolytomy/tmp\"\n",
    "run_name = \"test_qp\"\n",
    "\n",
    "FOLDER = Path(output_path) / run_name"
   ]
  },
  {
   "cell_type": "code",
   "execution_count": 34,
   "id": "588a8e1e",
   "metadata": {},
   "outputs": [
    {
     "name": "stdout",
     "output_type": "stream",
     "text": [
      "_2\n",
      "_3\n",
      "_4\n"
     ]
    }
   ],
   "source": [
    "for polytomy in polytomies:\n",
    "    print(polytomy.name)\n",
    "    polytomy_folder = FOLDER / polytomy.name\n",
    "    os.makedirs(polytomy_folder, exist_ok=True)\n",
    "    # what happens if the leafset is not fully determined? for neighbours a,b,c,d add \n",
    "    # ab|cd, ac|bd, and ad|bc so that no bias\n",
    "    # and make sure each leaf is in at least one quartet.\n",
    "    with open(polytomy_folder / 'quartets.nwk', 'w') as qf:\n",
    "        poly_neighbours = list(set(poly_label_map[polytomy.name].values())) # \n",
    "        for i in range(len(poly_neighbours) - 3):\n",
    "            a, b, c, d = poly_neighbours[i:i+4]\n",
    "            qf.write(f'(({a},{b}),({c},{d}));\\n')\n",
    "            qf.write(f'(({a},{c}),({b},{d}));\\n')\n",
    "            qf.write(f'(({a},{d}),({c},{d}));\\n')\n",
    "\n",
    "        for (a, b, c, d), w in polytomy_quartets[polytomy.name].items():\n",
    "            qf.write(f'(({a},{b}),({c},{d}));\\n' * w)\n",
    "    "
   ]
  },
  {
   "cell_type": "code",
   "execution_count": null,
   "id": "10083bfa",
   "metadata": {},
   "outputs": [],
   "source": []
  }
 ],
 "metadata": {
  "kernelspec": {
   "display_name": "base",
   "language": "python",
   "name": "python3"
  },
  "language_info": {
   "codemirror_mode": {
    "name": "ipython",
    "version": 3
   },
   "file_extension": ".py",
   "mimetype": "text/x-python",
   "name": "python",
   "nbconvert_exporter": "python",
   "pygments_lexer": "ipython3",
   "version": "3.12.7"
  }
 },
 "nbformat": 4,
 "nbformat_minor": 5
}
