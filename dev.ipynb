{
 "cells": [
  {
   "cell_type": "code",
   "execution_count": null,
   "id": "10ce8d86",
   "metadata": {},
   "outputs": [],
   "source": [
    "from Bio import Phylo \n",
    "from io import StringIO"
   ]
  },
  {
   "cell_type": "code",
   "execution_count": null,
   "id": "0a81d08c",
   "metadata": {},
   "outputs": [],
   "source": [
    "tree_nwk = \"((A,B,C),((D,E,F),G,H),I)\"\n",
    "tree = Phylo.read(StringIO(tree_nwk), format=\"newick\")"
   ]
  },
  {
   "cell_type": "code",
   "execution_count": null,
   "id": "ddcf8b12",
   "metadata": {},
   "outputs": [],
   "source": [
    "Phylo.draw(tree)"
   ]
  },
  {
   "cell_type": "code",
   "execution_count": null,
   "id": "1ffee755",
   "metadata": {},
   "outputs": [],
   "source": [
    "root = tree.root"
   ]
  },
  {
   "cell_type": "code",
   "execution_count": null,
   "id": "6d9716bc",
   "metadata": {},
   "outputs": [],
   "source": [
    "next(iter(root.find_elements(terminal=True)))"
   ]
  },
  {
   "cell_type": "code",
   "execution_count": null,
   "id": "800e1445",
   "metadata": {},
   "outputs": [],
   "source": [
    "id = 0\n",
    "def get_new_name():\n",
    "    global id\n",
    "    id += 1\n",
    "    return f\"_{id}\"\n",
    "\n",
    "def reset_name():\n",
    "    global id\n",
    "    id = 0"
   ]
  },
  {
   "cell_type": "code",
   "execution_count": null,
   "id": "fc45f4cc",
   "metadata": {},
   "outputs": [],
   "source": [
    "def get_parent(tree, node):\n",
    "    path = [tree.root] + tree.get_path(node)\n",
    "    if len(path) <= 1:\n",
    "        raise ValueError(f\"Could not find parent of {node=}, are you sure {node=} is a valid non-root node?\")\n",
    "    parent = path[-2]\n",
    "    return parent"
   ]
  },
  {
   "cell_type": "code",
   "execution_count": null,
   "id": "a4ca0bfe",
   "metadata": {},
   "outputs": [],
   "source": [
    "reset_name()\n",
    "for node in tree.find_clades(terminal=False):\n",
    "    node.name = get_new_name()"
   ]
  },
  {
   "cell_type": "code",
   "execution_count": null,
   "id": "136b1f1d",
   "metadata": {},
   "outputs": [],
   "source": [
    "Phylo.draw(tree)"
   ]
  },
  {
   "cell_type": "code",
   "execution_count": null,
   "id": "0388ea29",
   "metadata": {},
   "outputs": [],
   "source": [
    "all_leaf_names = map(lambda x : x.name, tree.find_elements(terminal=True))\n",
    "print(list(all_leaf_names))"
   ]
  },
  {
   "cell_type": "code",
   "execution_count": null,
   "id": "5940b0a3",
   "metadata": {},
   "outputs": [],
   "source": [
    "root.clades[0].clades"
   ]
  },
  {
   "cell_type": "code",
   "execution_count": null,
   "id": "18a73662",
   "metadata": {},
   "outputs": [],
   "source": [
    "all_clades = tree.find_clades() \n",
    "for clade in all_clades:\n",
    "    if(len(clade.clades) > 2): \n",
    "        print(clade)"
   ]
  },
  {
   "cell_type": "code",
   "execution_count": null,
   "id": "5544a762",
   "metadata": {},
   "outputs": [],
   "source": [
    "polytomies = list(filter(\n",
    "    lambda x : \n",
    "        len(x.clades) > 2 if x != tree.root\n",
    "        else len(x.clades) > 3\n",
    "    ,\n",
    "    tree.find_clades(),\n",
    "))"
   ]
  },
  {
   "cell_type": "code",
   "execution_count": null,
   "id": "fd11920f",
   "metadata": {},
   "outputs": [],
   "source": [
    "poly_label_map = { polytomy.name: {} for polytomy in polytomies }"
   ]
  },
  {
   "cell_type": "code",
   "execution_count": null,
   "id": "71113b19",
   "metadata": {},
   "outputs": [],
   "source": [
    "poly_label_map"
   ]
  },
  {
   "cell_type": "code",
   "execution_count": null,
   "id": "11de05d0",
   "metadata": {},
   "outputs": [],
   "source": [
    "for poly in polytomies:\n",
    "    parent = get_parent(tree, poly)\n",
    "    print(f\"{poly=} {parent=}\") \n",
    "\n",
    "    for child in poly.clades: \n",
    "        leaves = list(child.find_elements(terminal=True))\n",
    "        # print(f\"{child=}, {leaves=}\")\n",
    "        for leaf in leaves: \n",
    "            poly_label_map[poly.name][leaf.name] = child.name\n",
    "    if parent is not None:\n",
    "        leaves = [ # the rest of the leaves\n",
    "            l for l in tree.find_elements(terminal=True)\n",
    "            if l not in poly.find_elements()\n",
    "        ]\n",
    "        for leaf in leaves: \n",
    "            poly_label_map[poly.name][leaf.name] = parent.name\n",
    "    print(len(poly_label_map[poly.name]))\n",
    "\n",
    "\n"
   ]
  },
  {
   "cell_type": "code",
   "execution_count": null,
   "id": "4874ef6b",
   "metadata": {},
   "outputs": [],
   "source": [
    "from collections import Counter\n",
    "polytomy_quartets = { polytomy.name: Counter() for polytomy in polytomies }"
   ]
  },
  {
   "cell_type": "code",
   "execution_count": null,
   "id": "ceb2d3a2",
   "metadata": {},
   "outputs": [],
   "source": []
  },
  {
   "cell_type": "code",
   "execution_count": null,
   "id": "48778011",
   "metadata": {},
   "outputs": [],
   "source": [
    "def update_quartet(\n",
    "    q: tuple[str, str, str, str],\n",
    "    w: int,\n",
    "    polytomy_quartets: dict[str, Counter],\n",
    "):\n",
    "    # q has format (a, b, c, d), represents ab|cd\n",
    "    # please check that a,b,c,d are in the leafset \n",
    "    # w is an integer weight\n",
    "    for poly in polytomies: \n",
    "        pn = poly.name \n",
    "        relabelled_tuple = tuple(map(\n",
    "            lambda u: poly_label_map[pn][u],\n",
    "            q\n",
    "        ))\n",
    "        if len(set(relabelled_tuple)) == 4: # four different children\n",
    "            print(f\"Updating {pn=}: {relabelled_tuple=}\")\n",
    "            polytomy_quartets[pn][relabelled_tuple] += w\n",
    "            return # a quartet can be in at most one polytomy"
   ]
  },
  {
   "cell_type": "code",
   "execution_count": null,
   "id": "3a577d0b",
   "metadata": {},
   "outputs": [],
   "source": [
    "update_quartet(\n",
    "    ('A', 'B', 'C', 'D'),\n",
    "    w = 1,\n",
    "    polytomy_quartets=polytomy_quartets,\n",
    ")"
   ]
  },
  {
   "cell_type": "code",
   "execution_count": null,
   "id": "df4e9ce4",
   "metadata": {},
   "outputs": [],
   "source": [
    "import os \n",
    "from pathlib import Path\n",
    "\n",
    "output_path = \"/projects/illinois/eng/cs/warnow/zxliu2/QuartetPolytomy/tmp\"\n",
    "run_name = \"test_qp\"\n",
    "\n",
    "FOLDER = Path(output_path) / run_name"
   ]
  },
  {
   "cell_type": "code",
   "execution_count": null,
   "id": "588a8e1e",
   "metadata": {},
   "outputs": [],
   "source": [
    "for polytomy in polytomies:\n",
    "    print(polytomy.name)\n",
    "    polytomy_folder = FOLDER / polytomy.name\n",
    "    os.makedirs(polytomy_folder, exist_ok=True)\n",
    "    # what happens if the leafset is not fully determined? for neighbours a,b,c,d add \n",
    "    # ab|cd, ac|bd, and ad|bc so that no bias\n",
    "    # and make sure each leaf is in at least one quartet.\n",
    "    with open(polytomy_folder / 'quartets.nwk', 'w') as qf:\n",
    "        poly_neighbours = list(set(poly_label_map[polytomy.name].values())) # \n",
    "        for i in range(len(poly_neighbours) - 3):\n",
    "            a, b, c, d = poly_neighbours[i:i+4]\n",
    "            qf.write(f'(({a},{b}),({c},{d}));\\n')\n",
    "            qf.write(f'(({a},{c}),({b},{d}));\\n')\n",
    "            qf.write(f'(({a},{d}),({c},{d}));\\n')\n",
    "\n",
    "        for (a, b, c, d), w in polytomy_quartets[polytomy.name].items():\n",
    "            qf.write(f'(({a},{b}),({c},{d}));\\n' * w)\n",
    "    "
   ]
  },
  {
   "cell_type": "markdown",
   "id": "4f2eb7ce",
   "metadata": {},
   "source": [
    "# Stitching"
   ]
  },
  {
   "cell_type": "code",
   "execution_count": 140,
   "id": "10083bfa",
   "metadata": {},
   "outputs": [],
   "source": [
    "tree_pt = Phylo.read(\n",
    "    StringIO(\"\"\"((\n",
    "             (\n",
    "                (A,B,C,D)_2,\n",
    "                (E,F,G,H)_3,\n",
    "                (I,J)_4\n",
    "            )_5,K)_1\n",
    "    )_0\"\"\"), format=\"newick\"\n",
    ")\n",
    "pt_name = \"_5\"\n",
    "resolution1 = Phylo.read(\n",
    "    StringIO(\"((_1,_2),(_3,_4))\"), format=\"newick\"\n",
    ")\n",
    "resolution2 = Phylo.read(\n",
    "    StringIO(\"((E,F),(G,(H,_5)))\"), format=\"newick\"\n",
    ")"
   ]
  },
  {
   "cell_type": "code",
   "execution_count": 141,
   "id": "30b8a488",
   "metadata": {},
   "outputs": [
    {
     "data": {
      "image/png": "[encoded data removed]",
      "text/plain": [
       "<Figure size 640x480 with 1 Axes>"
      ]
     },
     "metadata": {},
     "output_type": "display_data"
    }
   ],
   "source": [
    "Phylo.draw(tree_pt)"
   ]
  },
  {
   "cell_type": "code",
   "execution_count": 142,
   "id": "32eba34a",
   "metadata": {},
   "outputs": [
    {
     "data": {
      "image/png": "[encoded data removed]",
      "text/plain": [
       "<Figure size 640x480 with 1 Axes>"
      ]
     },
     "metadata": {},
     "output_type": "display_data"
    }
   ],
   "source": [
    "Phylo.draw(resolution1)"
   ]
  },
  {
   "cell_type": "code",
   "execution_count": 143,
   "id": "59d63434",
   "metadata": {},
   "outputs": [
    {
     "data": {
      "image/png": "[encoded data removed]",
      "text/plain": [
       "<Figure size 640x480 with 1 Axes>"
      ]
     },
     "metadata": {},
     "output_type": "display_data"
    }
   ],
   "source": [
    "Phylo.draw(resolution2)"
   ]
  },
  {
   "cell_type": "code",
   "execution_count": 144,
   "id": "b681e46f",
   "metadata": {},
   "outputs": [],
   "source": [
    "from copy import deepcopy"
   ]
  },
  {
   "cell_type": "code",
   "execution_count": null,
   "id": "b6caa44c",
   "metadata": {},
   "outputs": [],
   "source": [
    "def resolve_one_polytomy(\n",
    "    tree_pt, # tree with polytomy\n",
    "    pt_node_name, # node name of the polytomy to resolve\n",
    "    resolution_tree, # the resolution tree such that the leafset of this tree is exactly the neighbours of pt_node_name in tree_pt\n",
    "): \n",
    "    \"\"\"\n",
    "    Input:\n",
    "    tree_pt, tree with polytomy\n",
    "    pt_node_name, node name of the polytomy to resolve\n",
    "    resolution_tree, the resolution tree such that the leafset of this tree is exactly the neighbours of pt_node_name in tree_pt\n",
    "    Output: \n",
    "    tree_pt with the resolution tree in place of the original polytomy at pt_node_name. \n",
    "    Tree WILL have unifurcations, but they are intended and should be fixed AFTER all polytomies are fixed, as they help to represent nodes that are may no longer present.\n",
    "    Will not chagne resolution_tree, but CHANGES tree_pt IN PLACE\n",
    "    \"\"\"\n",
    "    # assumptions: tree_pt\n",
    "    # \n",
    "    old_resolution_tree = deepcopy(resolution_tree)\n",
    "    assert len(list(tree_pt.find_clades(target=pt_node_name))) == 1, f\"found multiple nodes with name {pt_node_name}\"\n",
    "    pt_node = next(iter(tree_pt.find_clades(target=pt_node_name)))\n",
    "    parent = get_parent(tree_pt, pt_node)\n",
    "    assert parent is not None, \"parent of polytomy should not be none.\"\n",
    "    assert set([parent.name] + [ clade.name for clade in pt_node.clades ]) ==\\\n",
    "        set([ leaf.name for leaf in resolution_tree.find_elements(terminal=True) ] ),\\\n",
    "        f\"Resolution leaf set is not the same as the neighbours of the polytomy:\\n{set([parent.name] + [ clade.name for clade in pt_node.clades ])}\\n{set([ leaf.name for leaf in resolution_tree.find_elements(terminal=True) ] )}\"\n",
    "    # stitch the children the original polytomy on the resolution\n",
    "    for child in pt_node.clades:\n",
    "        name = child.name \n",
    "        assert len(list(resolution_tree.find_clades(target=name, terminal=True))) == 1, f\"Found multiple or no nodes in the resolution with name {name}\"\n",
    "        resolution_child = next(iter(resolution_tree.find_clades(target=name, terminal=True)))\n",
    "        resolution_child.clades = [child]\n",
    "        resolution_child.name = pt_node.name\n",
    "        print(resolution_child, resolution_child.clades)\n",
    "\n",
    "    # replace the parent -> polytomy node with the tree in tree_pt\n",
    "    resolution_tree.root_with_outgroup([parent.name])\n",
    "    resolution_tree.prune(parent.name)\n",
    "    for i, c in enumerate(parent.clades):\n",
    "        if c.name == pt_node.name:\n",
    "            parent.clades[i] = resolution_tree.root\n",
    "            resolution_tree.root.name = pt_node.name\n",
    "            break\n",
    "\n",
    "    resolution_tree = old_resolution_tree\n",
    "    return tree_pt"
   ]
  },
  {
   "cell_type": "code",
   "execution_count": 146,
   "id": "d8a0115a",
   "metadata": {},
   "outputs": [
    {
     "data": {
      "image/png": "[encoded data removed]",
      "text/plain": [
       "<Figure size 640x480 with 1 Axes>"
      ]
     },
     "metadata": {},
     "output_type": "display_data"
    }
   ],
   "source": [
    "Phylo.draw(tree_pt)"
   ]
  },
  {
   "cell_type": "code",
   "execution_count": 147,
   "id": "4bd2ac3c",
   "metadata": {},
   "outputs": [
    {
     "name": "stdout",
     "output_type": "stream",
     "text": [
      "_3 [Clade(name='E')]\n",
      "_3 [Clade(name='F')]\n",
      "_3 [Clade(name='G')]\n",
      "_3 [Clade(name='H')]\n"
     ]
    }
   ],
   "source": [
    "pt_tree = resolve_one_polytomy(\n",
    "    tree_pt=tree_pt,\n",
    "    pt_node_name = \"_3\",\n",
    "    resolution_tree=resolution2\n",
    ")"
   ]
  },
  {
   "cell_type": "code",
   "execution_count": 148,
   "id": "63b0addf",
   "metadata": {},
   "outputs": [
    {
     "data": {
      "image/png": "[encoded data removed]",
      "text/plain": [
       "<Figure size 640x480 with 1 Axes>"
      ]
     },
     "metadata": {},
     "output_type": "display_data"
    }
   ],
   "source": [
    "Phylo.draw(pt_tree)"
   ]
  },
  {
   "cell_type": "code",
   "execution_count": 149,
   "id": "ad801159",
   "metadata": {},
   "outputs": [
    {
     "ename": "AssertionError",
     "evalue": "Resolution leaf set is not the same as the neighbours of the polytomy:\n{None, '_4', '_1', '_2'}\n{'_4', '_3', '_1', '_2'}",
     "output_type": "error",
     "traceback": [
      "\u001b[0;31m---------------------------------------------------------------------------\u001b[0m",
      "\u001b[0;31mAssertionError\u001b[0m                            Traceback (most recent call last)",
      "Cell \u001b[0;32mIn[149], line 1\u001b[0m\n\u001b[0;32m----> 1\u001b[0m pt_tree \u001b[38;5;241m=\u001b[39m resolve_one_polytomy(\n\u001b[1;32m      2\u001b[0m     tree_pt\u001b[38;5;241m=\u001b[39mtree_pt,\n\u001b[1;32m      3\u001b[0m     pt_node_name \u001b[38;5;241m=\u001b[39m \u001b[38;5;124m\"\u001b[39m\u001b[38;5;124m_5\u001b[39m\u001b[38;5;124m\"\u001b[39m,\n\u001b[1;32m      4\u001b[0m     resolution_tree\u001b[38;5;241m=\u001b[39mresolution1\n\u001b[1;32m      5\u001b[0m )\n",
      "Cell \u001b[0;32mIn[145], line 23\u001b[0m, in \u001b[0;36mresolve_one_polytomy\u001b[0;34m(tree_pt, pt_node_name, resolution_tree)\u001b[0m\n\u001b[1;32m     21\u001b[0m parent \u001b[38;5;241m=\u001b[39m get_parent(tree_pt, pt_node)\n\u001b[1;32m     22\u001b[0m \u001b[38;5;28;01massert\u001b[39;00m parent \u001b[38;5;129;01mis\u001b[39;00m \u001b[38;5;129;01mnot\u001b[39;00m \u001b[38;5;28;01mNone\u001b[39;00m, \u001b[38;5;124m\"\u001b[39m\u001b[38;5;124mparent of polytomy should not be none.\u001b[39m\u001b[38;5;124m\"\u001b[39m\n\u001b[0;32m---> 23\u001b[0m \u001b[38;5;28;01massert\u001b[39;00m \u001b[38;5;28mset\u001b[39m([parent\u001b[38;5;241m.\u001b[39mname] \u001b[38;5;241m+\u001b[39m [ clade\u001b[38;5;241m.\u001b[39mname \u001b[38;5;28;01mfor\u001b[39;00m clade \u001b[38;5;129;01min\u001b[39;00m pt_node\u001b[38;5;241m.\u001b[39mclades ]) \u001b[38;5;241m==\u001b[39m\\\n\u001b[1;32m     24\u001b[0m     \u001b[38;5;28mset\u001b[39m([ leaf\u001b[38;5;241m.\u001b[39mname \u001b[38;5;28;01mfor\u001b[39;00m leaf \u001b[38;5;129;01min\u001b[39;00m resolution_tree\u001b[38;5;241m.\u001b[39mfind_elements(terminal\u001b[38;5;241m=\u001b[39m\u001b[38;5;28;01mTrue\u001b[39;00m) ] ),\\\n\u001b[1;32m     25\u001b[0m     \u001b[38;5;124mf\u001b[39m\u001b[38;5;124m\"\u001b[39m\u001b[38;5;124mResolution leaf set is not the same as the neighbours of the polytomy:\u001b[39m\u001b[38;5;130;01m\\n\u001b[39;00m\u001b[38;5;132;01m{\u001b[39;00m\u001b[38;5;28mset\u001b[39m([parent\u001b[38;5;241m.\u001b[39mname]\u001b[38;5;250m \u001b[39m\u001b[38;5;241m+\u001b[39m\u001b[38;5;250m \u001b[39m[\u001b[38;5;250m \u001b[39mclade\u001b[38;5;241m.\u001b[39mname\u001b[38;5;250m \u001b[39m\u001b[38;5;28;01mfor\u001b[39;00m\u001b[38;5;250m \u001b[39mclade\u001b[38;5;250m \u001b[39m\u001b[38;5;129;01min\u001b[39;00m\u001b[38;5;250m \u001b[39mpt_node\u001b[38;5;241m.\u001b[39mclades\u001b[38;5;250m \u001b[39m])\u001b[38;5;132;01m}\u001b[39;00m\u001b[38;5;130;01m\\n\u001b[39;00m\u001b[38;5;132;01m{\u001b[39;00m\u001b[38;5;28mset\u001b[39m([\u001b[38;5;250m \u001b[39mleaf\u001b[38;5;241m.\u001b[39mname\u001b[38;5;250m \u001b[39m\u001b[38;5;28;01mfor\u001b[39;00m\u001b[38;5;250m \u001b[39mleaf\u001b[38;5;250m \u001b[39m\u001b[38;5;129;01min\u001b[39;00m\u001b[38;5;250m \u001b[39mresolution_tree\u001b[38;5;241m.\u001b[39mfind_elements(terminal\u001b[38;5;241m=\u001b[39m\u001b[38;5;28;01mTrue\u001b[39;00m)\u001b[38;5;250m \u001b[39m]\u001b[38;5;250m \u001b[39m)\u001b[38;5;132;01m}\u001b[39;00m\u001b[38;5;124m\"\u001b[39m\n\u001b[1;32m     26\u001b[0m \u001b[38;5;66;03m# stitch the children the original polytomy on the resolution\u001b[39;00m\n\u001b[1;32m     27\u001b[0m \u001b[38;5;28;01mfor\u001b[39;00m child \u001b[38;5;129;01min\u001b[39;00m pt_node\u001b[38;5;241m.\u001b[39mclades:\n",
      "\u001b[0;31mAssertionError\u001b[0m: Resolution leaf set is not the same as the neighbours of the polytomy:\n{None, '_4', '_1', '_2'}\n{'_4', '_3', '_1', '_2'}"
     ]
    }
   ],
   "source": [
    "pt_tree = resolve_one_polytomy(\n",
    "    tree_pt=tree_pt,\n",
    "    pt_node_name = \"_5\",\n",
    "    resolution_tree=resolution1\n",
    ")"
   ]
  },
  {
   "cell_type": "code",
   "execution_count": null,
   "id": "fc2e967e",
   "metadata": {},
   "outputs": [],
   "source": []
  },
  {
   "cell_type": "code",
   "execution_count": null,
   "id": "f8ea262b",
   "metadata": {},
   "outputs": [],
   "source": []
  },
  {
   "cell_type": "code",
   "execution_count": null,
   "id": "a94bfa75",
   "metadata": {},
   "outputs": [],
   "source": [
    "Phylo.draw(pt_tree)"
   ]
  },
  {
   "cell_type": "code",
   "execution_count": null,
   "id": "0c803459",
   "metadata": {},
   "outputs": [],
   "source": []
  }
 ],
 "metadata": {
  "kernelspec": {
   "display_name": "base",
   "language": "python",
   "name": "python3"
  },
  "language_info": {
   "codemirror_mode": {
    "name": "ipython",
    "version": 3
   },
   "file_extension": ".py",
   "mimetype": "text/x-python",
   "name": "python",
   "nbconvert_exporter": "python",
   "pygments_lexer": "ipython3",
   "version": "3.12.7"
  }
 },
 "nbformat": 4,
 "nbformat_minor": 5
}
